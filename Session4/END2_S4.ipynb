{
  "nbformat": 4,
  "nbformat_minor": 0,
  "metadata": {
    "colab": {
      "name": "END2_S4.ipynb",
      "provenance": []
    },
    "kernelspec": {
      "display_name": "Python 3",
      "name": "python3"
    },
    "language_info": {
      "name": "python"
    },
    "accelerator": "GPU"
  },
  "cells": [
    {
      "cell_type": "code",
      "metadata": {
        "id": "4SPhj6gnAnT2"
      },
      "source": [
        "import torch\n",
        "from torchtext.legacy import data\n",
        "from torch.autograd import Variable\n",
        "import torch.nn as nn\n",
        "\n",
        "SEED = 1234\n",
        "\n",
        "torch.manual_seed(SEED)\n",
        "torch.backends.cudnn.deterministic = True\n",
        "\n",
        "TEXT = data.Field(tokenize = 'spacy',\n",
        "                  tokenizer_language = 'en_core_web_sm',\n",
        "                  include_lengths = True)\n",
        "LABEL = data.LabelField(dtype = torch.float)"
      ],
      "execution_count": 4,
      "outputs": []
    },
    {
      "cell_type": "code",
      "metadata": {
        "colab": {
          "base_uri": "https://localhost:8080/"
        },
        "id": "lwn4oStE6PzV",
        "outputId": "eeff93a2-f104-4de9-ebe2-344d47968d6d"
      },
      "source": [
        "from torchtext.legacy import datasets\n",
        "\n",
        "train_data, test_data = datasets.IMDB.splits(TEXT, LABEL)"
      ],
      "execution_count": 5,
      "outputs": [
        {
          "output_type": "stream",
          "text": [
            "\raclImdb_v1.tar.gz:   0%|          | 0.00/84.1M [00:00<?, ?B/s]"
          ],
          "name": "stderr"
        },
        {
          "output_type": "stream",
          "text": [
            "downloading aclImdb_v1.tar.gz\n"
          ],
          "name": "stdout"
        },
        {
          "output_type": "stream",
          "text": [
            "aclImdb_v1.tar.gz: 100%|██████████| 84.1M/84.1M [00:02<00:00, 29.6MB/s]\n"
          ],
          "name": "stderr"
        }
      ]
    },
    {
      "cell_type": "code",
      "metadata": {
        "colab": {
          "base_uri": "https://localhost:8080/"
        },
        "id": "5DLJ86m56Xdn",
        "outputId": "14df892e-c23e-4f47-8dc3-cd7eb1418e87"
      },
      "source": [
        "print(f'Number of training examples: {len(train_data)}')\n",
        "print(f'Number of testing examples: {len(test_data)}')"
      ],
      "execution_count": 6,
      "outputs": [
        {
          "output_type": "stream",
          "text": [
            "Number of training examples: 25000\n",
            "Number of testing examples: 25000\n"
          ],
          "name": "stdout"
        }
      ]
    },
    {
      "cell_type": "code",
      "metadata": {
        "colab": {
          "base_uri": "https://localhost:8080/"
        },
        "id": "iXTWwqXA6rP2",
        "outputId": "2dd9b6e3-f0ac-474d-b045-3a67feb497de"
      },
      "source": [
        "print(vars(train_data.examples[0]))"
      ],
      "execution_count": 7,
      "outputs": [
        {
          "output_type": "stream",
          "text": [
            "{'text': ['Who', 'would', \"n't\", 'want', 'to', 'go', 'on', 'road', 'trip', 'with', 'Peter', 'Falk', '?', 'That', 'guy', \"'s\", 'right', 'eye', 'has', 'more', 'character', 'than', 'most', 'actors', 'today', '.', 'This', 'is', 'the', 'kind', 'of', 'funny', 'and', 'touching', 'movie', 'we', 'are', 'all', 'looking', 'for', 'as', 'a', 'counterbalance', 'to', 'all', 'the', 'bombastic', 'special', 'effects', 'bores', '.', 'Women', 'are', 'going', 'to', 'love', 'it', 'for', 'all', 'the', 'wake', '-', 'up', 'romance', 'advice', 'for', 'men', ',', 'and', 'men', 'will', 'love', 'it', 'for', 'its', 'spot', '-', 'on', 'father', '/', 'son', 'character', 'study', '--', 'one', 'great', 'little', 'scene', 'after', 'another', '.', 'And', 'it', 'has', 'just', 'enough', 'of', 'an', 'edge', 'to', 'be', 'a', 'true', 'indie', 'find', '.', 'Obviously', 'this', 'is', 'a', 'labor', 'of', 'love', 'for', 'Paul', 'Reiser', 'who', 'understands', 'what', 'it', \"'s\", 'like', 'to', 'be', 'both', 'a', 'father', 'and', 'a', 'son', ',', 'as', 'well', 'as', 'to', 'have', 'both', 'laughter', 'and', 'tears', 'as', 'you', 'move', 'through', 'life', '.', 'The', 'most', 'fun', 'part', ',', 'though', ',', 'was', 'watching', 'Reiser', 'watch', 'Falk', '.', 'You', 'could', 'tell', 'it', 'was', 'both', 'his', 'character', 'coming', 'to', 'a', 'new', 'appreciation', 'of', 'his', 'father', 'and', 'a', 'fellow', 'actor', 'really', 'enjoying', 'Peter', 'Falk', \"'s\", 'special', 'craft', '.', 'Really', 'delightful', '.', 'Let', \"'s\", 'hope', 'this', 'film', 'makes', 'it', 'into', 'theaters', 'around', 'the', 'country', 'sometime', 'soon', 'so', 'everyone', 'can', 'have', 'a', 'chance', 'to', 'laugh', 'and', 'cry', 'with', 'Paul', 'Reiser', 'and', 'folks', '.'], 'label': 'pos'}\n"
          ],
          "name": "stdout"
        }
      ]
    },
    {
      "cell_type": "code",
      "metadata": {
        "id": "3HMVqiZd6tR0"
      },
      "source": [
        "import random\n",
        "\n",
        "train_data, valid_data = train_data.split(random_state = random.seed(SEED))"
      ],
      "execution_count": 8,
      "outputs": []
    },
    {
      "cell_type": "code",
      "metadata": {
        "colab": {
          "base_uri": "https://localhost:8080/"
        },
        "id": "uOeQ6KpP7M-0",
        "outputId": "2787fdff-d983-4f21-f451-6a2950001fee"
      },
      "source": [
        "print(f'Number of training examples: {len(train_data)}')\n",
        "print(f'Number of validation examples: {len(valid_data)}')\n",
        "print(f'Number of testing examples: {len(test_data)}')"
      ],
      "execution_count": 9,
      "outputs": [
        {
          "output_type": "stream",
          "text": [
            "Number of training examples: 17500\n",
            "Number of validation examples: 7500\n",
            "Number of testing examples: 25000\n"
          ],
          "name": "stdout"
        }
      ]
    },
    {
      "cell_type": "code",
      "metadata": {
        "id": "KixkM1jQ7TB-"
      },
      "source": [
        "MAX_VOCAB_SIZE = 25_000\n",
        "\n",
        "TEXT.build_vocab(train_data, max_size = MAX_VOCAB_SIZE)\n",
        "LABEL.build_vocab(train_data)"
      ],
      "execution_count": 10,
      "outputs": []
    },
    {
      "cell_type": "code",
      "metadata": {
        "colab": {
          "base_uri": "https://localhost:8080/"
        },
        "id": "hD4SFKnc7g0D",
        "outputId": "9e028a16-4cd5-476d-8380-9fccdc067f7f"
      },
      "source": [
        "print(f\"Unique tokens in TEXT vocabulary: {len(TEXT.vocab)}\")\n",
        "print(f\"Unique tokens in LABEL vocabulary: {len(LABEL.vocab)}\")"
      ],
      "execution_count": 11,
      "outputs": [
        {
          "output_type": "stream",
          "text": [
            "Unique tokens in TEXT vocabulary: 25002\n",
            "Unique tokens in LABEL vocabulary: 2\n"
          ],
          "name": "stdout"
        }
      ]
    },
    {
      "cell_type": "code",
      "metadata": {
        "colab": {
          "base_uri": "https://localhost:8080/"
        },
        "id": "ttKvFTCQ7isK",
        "outputId": "af66e27d-6a34-4708-a2f2-a538d8d96770"
      },
      "source": [
        "print(TEXT.vocab.freqs.most_common(20))"
      ],
      "execution_count": 12,
      "outputs": [
        {
          "output_type": "stream",
          "text": [
            "[('the', 202995), (',', 192589), ('.', 166220), ('a', 109823), ('and', 109605), ('of', 100631), ('to', 94086), ('is', 76261), ('in', 61475), ('I', 54572), ('it', 53798), ('that', 49288), ('\"', 44123), (\"'s\", 43366), ('this', 42618), ('-', 36817), ('/><br', 35673), ('was', 35263), ('as', 30534), ('with', 29957)]\n"
          ],
          "name": "stdout"
        }
      ]
    },
    {
      "cell_type": "code",
      "metadata": {
        "colab": {
          "base_uri": "https://localhost:8080/"
        },
        "id": "fZXIsIV47mlI",
        "outputId": "4ddec069-934f-49f3-bb6d-f4b96d3c3356"
      },
      "source": [
        "print(TEXT.vocab.itos[:10])"
      ],
      "execution_count": 13,
      "outputs": [
        {
          "output_type": "stream",
          "text": [
            "['<unk>', '<pad>', 'the', ',', '.', 'a', 'and', 'of', 'to', 'is']\n"
          ],
          "name": "stdout"
        }
      ]
    },
    {
      "cell_type": "code",
      "metadata": {
        "id": "vmbx3T9-7x4g",
        "colab": {
          "base_uri": "https://localhost:8080/"
        },
        "outputId": "11d21dda-a91e-479f-ab89-d93d7940c4cb"
      },
      "source": [
        "print(LABEL.vocab.stoi)"
      ],
      "execution_count": 14,
      "outputs": [
        {
          "output_type": "stream",
          "text": [
            "defaultdict(None, {'neg': 0, 'pos': 1})\n"
          ],
          "name": "stdout"
        }
      ]
    },
    {
      "cell_type": "code",
      "metadata": {
        "id": "B3gBfP6mEJ_0"
      },
      "source": [
        "BATCH_SIZE = 128\n",
        "\n",
        "device = torch.device('cuda' if torch.cuda.is_available() else 'cpu')\n",
        "\n",
        "train_iterator, valid_iterator, test_iterator = data.BucketIterator.splits(\n",
        "    (train_data, valid_data, test_data), \n",
        "    batch_size = BATCH_SIZE,\n",
        "    sort_within_batch=True,\n",
        "    device = device)"
      ],
      "execution_count": 15,
      "outputs": []
    },
    {
      "cell_type": "code",
      "metadata": {
        "colab": {
          "base_uri": "https://localhost:8080/"
        },
        "id": "CrvM0GeEqApM",
        "outputId": "f35c7d9c-ca74-4dac-9995-033bf13c991b"
      },
      "source": [
        "\n",
        "print('Train')\n",
        "for batch in train_iterator:\n",
        "    print(f'Text matrix size: {batch.text[0].size()}')\n",
        "    print(f'Target vector size: {batch.label.size()}')\n",
        "    break\n",
        "    \n",
        "print('\\nValid:')\n",
        "for batch in valid_iterator:\n",
        "    print(f'Text matrix size: {batch.text[0].size()}')\n",
        "    print(f'Target vector size: {batch.label.size()}')\n",
        "    break\n",
        "    \n",
        "print('\\nTest:')\n",
        "for batch in test_iterator:\n",
        "    print(f'Text matrix size: {batch.text[0].size()}')\n",
        "    print(f'Target vector size: {batch.label.size()}')\n",
        "    break"
      ],
      "execution_count": 16,
      "outputs": [
        {
          "output_type": "stream",
          "text": [
            "Train\n",
            "Text matrix size: torch.Size([133, 128])\n",
            "Target vector size: torch.Size([128])\n",
            "\n",
            "Valid:\n",
            "Text matrix size: torch.Size([54, 128])\n",
            "Target vector size: torch.Size([128])\n",
            "\n",
            "Test:\n",
            "Text matrix size: torch.Size([42, 128])\n",
            "Target vector size: torch.Size([128])\n"
          ],
          "name": "stdout"
        }
      ]
    },
    {
      "cell_type": "code",
      "metadata": {
        "id": "E2ZQQV1-ELZf"
      },
      "source": [
        "# import torch.nn as nn\n",
        "\n",
        "# class RNN(nn.Module):\n",
        "#     def __init__(self, input_dim, embedding_dim, hidden_dim, output_dim):\n",
        "        \n",
        "#         super().__init__()\n",
        "        \n",
        "#         self.embedding = nn.Embedding(input_dim, embedding_dim)\n",
        "        \n",
        "#         self.rnn = nn.RNN(embedding_dim, hidden_dim)\n",
        "        \n",
        "#         self.fc = nn.Linear(hidden_dim, output_dim)\n",
        "        \n",
        "#     def forward(self, text):\n",
        "\n",
        "#         #text = [sent len, batch size]\n",
        "        \n",
        "#         embedded = self.embedding(text)\n",
        "        \n",
        "#         #embedded = [sent len, batch size, emb dim]\n",
        "        \n",
        "#         output, hidden = self.rnn(embedded)\n",
        "        \n",
        "#         #output = [sent len, batch size, hid dim]\n",
        "#         #hidden = [1, batch size, hid dim]\n",
        "        \n",
        "#         assert torch.equal(output[-1,:,:], hidden.squeeze(0))\n",
        "        \n",
        "#         return self.fc(hidden.squeeze(0))"
      ],
      "execution_count": 17,
      "outputs": []
    },
    {
      "cell_type": "code",
      "metadata": {
        "id": "_P9faaK6Dqo3"
      },
      "source": [
        "class LSTM(nn.Module):\n",
        "    def __init__(self, input_dim, embedding_dim, hidden_dim, output_dim):\n",
        "        \n",
        "        super().__init__()\n",
        "        \n",
        "        self.embedding = nn.Embedding(input_dim, embedding_dim)\n",
        "        self.lstm = nn.LSTM(embedding_dim, hidden_dim)\n",
        "        self.fc = nn.Linear(hidden_dim, output_dim)\n",
        "        \n",
        "    def forward(self, text, text_length):\n",
        "\n",
        "        \n",
        "        embedded = self.embedding(text)\n",
        "        \n",
        "        packed = torch.nn.utils.rnn.pack_padded_sequence(embedded, text_length.to('cpu'))\n",
        "        \n",
        "       \n",
        "        packed_output, (hidden, cell) = self.lstm(packed)\n",
        "        \n",
        "        return self.fc(hidden.squeeze(0)).view(-1)"
      ],
      "execution_count": 18,
      "outputs": []
    },
    {
      "cell_type": "code",
      "metadata": {
        "id": "x0_X5kSwENad"
      },
      "source": [
        "INPUT_DIM = len(TEXT.vocab)\n",
        "EMBEDDING_DIM = 128\n",
        "HIDDEN_DIM = 256\n",
        "OUTPUT_DIM = 1\n",
        "\n",
        "model = LSTM(INPUT_DIM, EMBEDDING_DIM, HIDDEN_DIM, OUTPUT_DIM)"
      ],
      "execution_count": 19,
      "outputs": []
    },
    {
      "cell_type": "code",
      "metadata": {
        "id": "VdGb8dKBEO2x",
        "colab": {
          "base_uri": "https://localhost:8080/"
        },
        "outputId": "15100700-bbeb-4379-c1aa-bcaaac358eca"
      },
      "source": [
        "def count_parameters(model):\n",
        "    return sum(p.numel() for p in model.parameters() if p.requires_grad)\n",
        "\n",
        "print(f'The model has {count_parameters(model):,} trainable parameters')"
      ],
      "execution_count": 20,
      "outputs": [
        {
          "output_type": "stream",
          "text": [
            "The model has 3,595,777 trainable parameters\n"
          ],
          "name": "stdout"
        }
      ]
    },
    {
      "cell_type": "code",
      "metadata": {
        "id": "AAeEtXiJEQCj"
      },
      "source": [
        "import torch.optim as optim\n",
        "\n",
        "optimizer = optim.Adam(model.parameters(), lr=1e-4)"
      ],
      "execution_count": 21,
      "outputs": []
    },
    {
      "cell_type": "code",
      "metadata": {
        "id": "0Utp4-qAERRG"
      },
      "source": [
        "criterion = nn.BCEWithLogitsLoss()"
      ],
      "execution_count": 22,
      "outputs": []
    },
    {
      "cell_type": "code",
      "metadata": {
        "id": "PyAXf58FESdL"
      },
      "source": [
        "model = model.to(device)\n",
        "criterion = criterion.to(device)"
      ],
      "execution_count": 23,
      "outputs": []
    },
    {
      "cell_type": "code",
      "metadata": {
        "id": "w4yNiGXQETh9"
      },
      "source": [
        "def binary_accuracy(preds, y):\n",
        "    \"\"\"\n",
        "    Returns accuracy per batch, i.e. if you get 8/10 right, this returns 0.8, NOT 8\n",
        "    \"\"\"\n",
        "\n",
        "    #round predictions to the closest integer\n",
        "    rounded_preds = torch.round(torch.sigmoid(preds))\n",
        "    correct = (rounded_preds == y).float() #convert into float for division \n",
        "    acc = correct.sum() / len(correct)\n",
        "    return acc"
      ],
      "execution_count": 24,
      "outputs": []
    },
    {
      "cell_type": "code",
      "metadata": {
        "id": "N1iGJW1wEUrL"
      },
      "source": [
        "def train(model, iterator, optimizer, criterion):\n",
        "    \n",
        "    epoch_loss = 0\n",
        "    epoch_acc = 0\n",
        "    \n",
        "    model.train()\n",
        "    \n",
        "    for batch in iterator:\n",
        "\n",
        "        text, text_length = batch.text\n",
        "        logits = model(text, text_length)\n",
        "        \n",
        "        loss = criterion(logits, batch.label)\n",
        "        \n",
        "        acc = binary_accuracy(logits, batch.label)\n",
        "        \n",
        "        optimizer.zero_grad()\n",
        "\n",
        "        loss.backward()\n",
        "        \n",
        "        optimizer.step()\n",
        "        \n",
        "        epoch_loss += loss.item()\n",
        "        epoch_acc += acc.item()\n",
        "        \n",
        "    return epoch_loss / len(iterator), epoch_acc / len(iterator)"
      ],
      "execution_count": 25,
      "outputs": []
    },
    {
      "cell_type": "code",
      "metadata": {
        "id": "HNQxQS3tEWUW"
      },
      "source": [
        "def evaluate(model, iterator, criterion):\n",
        "    \n",
        "    epoch_loss = 0\n",
        "    epoch_acc = 0\n",
        "    \n",
        "    model.eval()\n",
        "    \n",
        "    with torch.no_grad():\n",
        "    \n",
        "        for batch in iterator:\n",
        "\n",
        "            text, text_length = batch.text\n",
        "            predictions = model(text, text_length)\n",
        "            \n",
        "            loss = criterion(predictions, batch.label)\n",
        "            \n",
        "            acc = binary_accuracy(predictions, batch.label)\n",
        "\n",
        "            epoch_loss += loss.item()\n",
        "            epoch_acc += acc.item()\n",
        "        \n",
        "    return epoch_loss / len(iterator), epoch_acc / len(iterator)"
      ],
      "execution_count": 26,
      "outputs": []
    },
    {
      "cell_type": "code",
      "metadata": {
        "id": "DVM8MtV6EYIw"
      },
      "source": [
        "import time\n",
        "\n",
        "def epoch_time(start_time, end_time):\n",
        "    elapsed_time = end_time - start_time\n",
        "    elapsed_mins = int(elapsed_time / 60)\n",
        "    elapsed_secs = int(elapsed_time - (elapsed_mins * 60))\n",
        "    return elapsed_mins, elapsed_secs"
      ],
      "execution_count": 27,
      "outputs": []
    },
    {
      "cell_type": "code",
      "metadata": {
        "id": "yJ5KZmM4EZXW",
        "colab": {
          "base_uri": "https://localhost:8080/"
        },
        "outputId": "a6cce093-1b59-4876-84d0-a33e3b551460"
      },
      "source": [
        "N_EPOCHS = 50\n",
        "\n",
        "best_valid_loss = float('inf')\n",
        "\n",
        "for epoch in range(N_EPOCHS):\n",
        "    start_time = time.time()\n",
        "    \n",
        "    train_loss, train_acc = train(model, train_iterator, optimizer, criterion)\n",
        "    valid_loss, valid_acc = evaluate(model, valid_iterator, criterion)\n",
        "    \n",
        "    end_time = time.time()\n",
        "\n",
        "    epoch_mins, epoch_secs = epoch_time(start_time, end_time)\n",
        "    \n",
        "    if valid_loss < best_valid_loss:\n",
        "        best_valid_loss = valid_loss\n",
        "        torch.save(model.state_dict(), 'tut1-model.pt')\n",
        "    \n",
        "    print(f'Epoch: {epoch+1:02} | Epoch Time: {epoch_mins}m {epoch_secs}s')\n",
        "    print(f'\\tTrain Loss: {train_loss:.3f} | Train Acc: {train_acc*100:.2f}%')\n",
        "    print(f'\\t Val. Loss: {valid_loss:.3f} |  Val. Acc: {valid_acc*100:.2f}%')"
      ],
      "execution_count": 28,
      "outputs": [
        {
          "output_type": "stream",
          "text": [
            "Epoch: 01 | Epoch Time: 0m 7s\n",
            "\tTrain Loss: 0.690 | Train Acc: 53.31%\n",
            "\t Val. Loss: 0.684 |  Val. Acc: 57.10%\n",
            "Epoch: 02 | Epoch Time: 0m 7s\n",
            "\tTrain Loss: 0.661 | Train Acc: 60.84%\n",
            "\t Val. Loss: 0.605 |  Val. Acc: 67.28%\n",
            "Epoch: 03 | Epoch Time: 0m 7s\n",
            "\tTrain Loss: 0.577 | Train Acc: 70.15%\n",
            "\t Val. Loss: 0.553 |  Val. Acc: 72.36%\n",
            "Epoch: 04 | Epoch Time: 0m 7s\n",
            "\tTrain Loss: 0.534 | Train Acc: 73.98%\n",
            "\t Val. Loss: 0.522 |  Val. Acc: 74.44%\n",
            "Epoch: 05 | Epoch Time: 0m 7s\n",
            "\tTrain Loss: 0.489 | Train Acc: 77.47%\n",
            "\t Val. Loss: 0.534 |  Val. Acc: 74.29%\n",
            "Epoch: 06 | Epoch Time: 0m 7s\n",
            "\tTrain Loss: 0.624 | Train Acc: 67.36%\n",
            "\t Val. Loss: 0.597 |  Val. Acc: 69.27%\n",
            "Epoch: 07 | Epoch Time: 0m 7s\n",
            "\tTrain Loss: 0.492 | Train Acc: 76.83%\n",
            "\t Val. Loss: 0.487 |  Val. Acc: 76.78%\n",
            "Epoch: 08 | Epoch Time: 0m 7s\n",
            "\tTrain Loss: 0.432 | Train Acc: 80.86%\n",
            "\t Val. Loss: 0.457 |  Val. Acc: 79.07%\n",
            "Epoch: 09 | Epoch Time: 0m 7s\n",
            "\tTrain Loss: 0.405 | Train Acc: 82.72%\n",
            "\t Val. Loss: 0.450 |  Val. Acc: 79.97%\n",
            "Epoch: 10 | Epoch Time: 0m 7s\n",
            "\tTrain Loss: 0.386 | Train Acc: 83.63%\n",
            "\t Val. Loss: 0.428 |  Val. Acc: 80.34%\n",
            "Epoch: 11 | Epoch Time: 0m 7s\n",
            "\tTrain Loss: 0.362 | Train Acc: 84.75%\n",
            "\t Val. Loss: 0.412 |  Val. Acc: 81.32%\n",
            "Epoch: 12 | Epoch Time: 0m 7s\n",
            "\tTrain Loss: 0.346 | Train Acc: 85.67%\n",
            "\t Val. Loss: 0.421 |  Val. Acc: 81.55%\n",
            "Epoch: 13 | Epoch Time: 0m 7s\n",
            "\tTrain Loss: 0.332 | Train Acc: 86.73%\n",
            "\t Val. Loss: 0.407 |  Val. Acc: 82.54%\n",
            "Epoch: 14 | Epoch Time: 0m 7s\n",
            "\tTrain Loss: 0.345 | Train Acc: 85.73%\n",
            "\t Val. Loss: 0.393 |  Val. Acc: 82.68%\n",
            "Epoch: 15 | Epoch Time: 0m 7s\n",
            "\tTrain Loss: 0.298 | Train Acc: 88.00%\n",
            "\t Val. Loss: 0.429 |  Val. Acc: 82.24%\n",
            "Epoch: 16 | Epoch Time: 0m 7s\n",
            "\tTrain Loss: 0.298 | Train Acc: 88.08%\n",
            "\t Val. Loss: 0.379 |  Val. Acc: 84.05%\n",
            "Epoch: 17 | Epoch Time: 0m 7s\n",
            "\tTrain Loss: 0.281 | Train Acc: 89.04%\n",
            "\t Val. Loss: 0.389 |  Val. Acc: 83.26%\n",
            "Epoch: 18 | Epoch Time: 0m 7s\n",
            "\tTrain Loss: 0.263 | Train Acc: 89.69%\n",
            "\t Val. Loss: 0.408 |  Val. Acc: 82.16%\n",
            "Epoch: 19 | Epoch Time: 0m 7s\n",
            "\tTrain Loss: 0.314 | Train Acc: 86.94%\n",
            "\t Val. Loss: 0.415 |  Val. Acc: 82.02%\n",
            "Epoch: 20 | Epoch Time: 0m 7s\n",
            "\tTrain Loss: 0.282 | Train Acc: 88.77%\n",
            "\t Val. Loss: 0.454 |  Val. Acc: 82.35%\n",
            "Epoch: 21 | Epoch Time: 0m 7s\n",
            "\tTrain Loss: 0.228 | Train Acc: 91.41%\n",
            "\t Val. Loss: 0.373 |  Val. Acc: 84.92%\n",
            "Epoch: 22 | Epoch Time: 0m 7s\n",
            "\tTrain Loss: 0.231 | Train Acc: 91.40%\n",
            "\t Val. Loss: 0.386 |  Val. Acc: 84.79%\n",
            "Epoch: 23 | Epoch Time: 0m 7s\n",
            "\tTrain Loss: 0.252 | Train Acc: 90.49%\n",
            "\t Val. Loss: 0.364 |  Val. Acc: 84.74%\n",
            "Epoch: 24 | Epoch Time: 0m 7s\n",
            "\tTrain Loss: 0.204 | Train Acc: 92.68%\n",
            "\t Val. Loss: 0.381 |  Val. Acc: 85.13%\n",
            "Epoch: 25 | Epoch Time: 0m 7s\n",
            "\tTrain Loss: 0.200 | Train Acc: 92.75%\n",
            "\t Val. Loss: 0.390 |  Val. Acc: 83.77%\n",
            "Epoch: 26 | Epoch Time: 0m 7s\n",
            "\tTrain Loss: 0.208 | Train Acc: 92.49%\n",
            "\t Val. Loss: 0.370 |  Val. Acc: 83.80%\n",
            "Epoch: 27 | Epoch Time: 0m 7s\n",
            "\tTrain Loss: 0.177 | Train Acc: 93.74%\n",
            "\t Val. Loss: 0.367 |  Val. Acc: 85.79%\n",
            "Epoch: 28 | Epoch Time: 0m 7s\n",
            "\tTrain Loss: 0.163 | Train Acc: 94.29%\n",
            "\t Val. Loss: 0.356 |  Val. Acc: 85.51%\n",
            "Epoch: 29 | Epoch Time: 0m 7s\n",
            "\tTrain Loss: 0.170 | Train Acc: 94.01%\n",
            "\t Val. Loss: 0.375 |  Val. Acc: 85.89%\n",
            "Epoch: 30 | Epoch Time: 0m 7s\n",
            "\tTrain Loss: 0.155 | Train Acc: 94.55%\n",
            "\t Val. Loss: 0.391 |  Val. Acc: 85.71%\n",
            "Epoch: 31 | Epoch Time: 0m 7s\n",
            "\tTrain Loss: 0.141 | Train Acc: 95.01%\n",
            "\t Val. Loss: 0.387 |  Val. Acc: 85.51%\n",
            "Epoch: 32 | Epoch Time: 0m 7s\n",
            "\tTrain Loss: 0.137 | Train Acc: 95.34%\n",
            "\t Val. Loss: 0.436 |  Val. Acc: 85.34%\n",
            "Epoch: 33 | Epoch Time: 0m 7s\n",
            "\tTrain Loss: 0.160 | Train Acc: 94.19%\n",
            "\t Val. Loss: 0.369 |  Val. Acc: 85.37%\n",
            "Epoch: 34 | Epoch Time: 0m 7s\n",
            "\tTrain Loss: 0.131 | Train Acc: 95.65%\n",
            "\t Val. Loss: 0.391 |  Val. Acc: 83.95%\n",
            "Epoch: 35 | Epoch Time: 0m 7s\n",
            "\tTrain Loss: 0.120 | Train Acc: 96.20%\n",
            "\t Val. Loss: 0.380 |  Val. Acc: 85.98%\n",
            "Epoch: 36 | Epoch Time: 0m 7s\n",
            "\tTrain Loss: 0.125 | Train Acc: 95.84%\n",
            "\t Val. Loss: 0.421 |  Val. Acc: 85.76%\n",
            "Epoch: 37 | Epoch Time: 0m 7s\n",
            "\tTrain Loss: 0.101 | Train Acc: 96.84%\n",
            "\t Val. Loss: 0.421 |  Val. Acc: 86.01%\n",
            "Epoch: 38 | Epoch Time: 0m 7s\n",
            "\tTrain Loss: 0.094 | Train Acc: 97.27%\n",
            "\t Val. Loss: 0.482 |  Val. Acc: 86.07%\n",
            "Epoch: 39 | Epoch Time: 0m 7s\n",
            "\tTrain Loss: 0.115 | Train Acc: 96.09%\n",
            "\t Val. Loss: 0.422 |  Val. Acc: 85.11%\n",
            "Epoch: 40 | Epoch Time: 0m 7s\n",
            "\tTrain Loss: 0.085 | Train Acc: 97.39%\n",
            "\t Val. Loss: 0.430 |  Val. Acc: 86.04%\n",
            "Epoch: 41 | Epoch Time: 0m 7s\n",
            "\tTrain Loss: 0.077 | Train Acc: 97.73%\n",
            "\t Val. Loss: 0.457 |  Val. Acc: 85.54%\n",
            "Epoch: 42 | Epoch Time: 0m 7s\n",
            "\tTrain Loss: 0.076 | Train Acc: 97.64%\n",
            "\t Val. Loss: 0.524 |  Val. Acc: 83.84%\n",
            "Epoch: 43 | Epoch Time: 0m 7s\n",
            "\tTrain Loss: 0.066 | Train Acc: 98.14%\n",
            "\t Val. Loss: 0.459 |  Val. Acc: 85.36%\n",
            "Epoch: 44 | Epoch Time: 0m 7s\n",
            "\tTrain Loss: 0.121 | Train Acc: 95.70%\n",
            "\t Val. Loss: 0.459 |  Val. Acc: 85.96%\n",
            "Epoch: 45 | Epoch Time: 0m 7s\n",
            "\tTrain Loss: 0.078 | Train Acc: 97.66%\n",
            "\t Val. Loss: 0.506 |  Val. Acc: 86.08%\n",
            "Epoch: 46 | Epoch Time: 0m 7s\n",
            "\tTrain Loss: 0.076 | Train Acc: 97.71%\n",
            "\t Val. Loss: 0.548 |  Val. Acc: 85.31%\n",
            "Epoch: 47 | Epoch Time: 0m 7s\n",
            "\tTrain Loss: 0.136 | Train Acc: 94.89%\n",
            "\t Val. Loss: 0.494 |  Val. Acc: 85.32%\n",
            "Epoch: 48 | Epoch Time: 0m 7s\n",
            "\tTrain Loss: 0.074 | Train Acc: 97.77%\n",
            "\t Val. Loss: 0.481 |  Val. Acc: 85.56%\n",
            "Epoch: 49 | Epoch Time: 0m 7s\n",
            "\tTrain Loss: 0.049 | Train Acc: 98.75%\n",
            "\t Val. Loss: 0.528 |  Val. Acc: 86.10%\n",
            "Epoch: 50 | Epoch Time: 0m 7s\n",
            "\tTrain Loss: 0.041 | Train Acc: 99.04%\n",
            "\t Val. Loss: 0.494 |  Val. Acc: 86.21%\n"
          ],
          "name": "stdout"
        }
      ]
    },
    {
      "cell_type": "code",
      "metadata": {
        "id": "qIiKAJMaEbKO",
        "colab": {
          "base_uri": "https://localhost:8080/"
        },
        "outputId": "dd1f53d3-4e97-4a80-9b26-a42208089db5"
      },
      "source": [
        "model.load_state_dict(torch.load('tut1-model.pt'))\n",
        "\n",
        "test_loss, test_acc = evaluate(model, test_iterator, criterion)\n",
        "\n",
        "print(f'Test Loss: {test_loss:.3f} | Test Acc: {test_acc*100:.2f}%')"
      ],
      "execution_count": 29,
      "outputs": [
        {
          "output_type": "stream",
          "text": [
            "Test Loss: 0.357 | Test Acc: 85.55%\n"
          ],
          "name": "stdout"
        }
      ]
    }
  ]
}