{
  "nbformat": 4,
  "nbformat_minor": 0,
  "metadata": {
    "colab": {
      "name": "END2_S1.ipynb",
      "provenance": []
    },
    "kernelspec": {
      "name": "python3",
      "display_name": "Python 3"
    },
    "language_info": {
      "name": "python"
    }
  },
  "cells": [
    {
      "cell_type": "code",
      "metadata": {
        "colab": {
          "base_uri": "https://localhost:8080/"
        },
        "id": "GC_6PeobwwkH",
        "outputId": "97e59a00-9948-4a00-e448-1afc13649b70"
      },
      "source": [
        "import torch\n",
        "from torch.autograd import Variable\n",
        "import torch.nn as nn\n",
        "import torch.nn.functional as F\n",
        "import torch.optim as optim\n",
        "import numpy as np\n",
        "import matplotlib.pyplot as plt\n",
        "%matplotlib inline\n",
        "torch.manual_seed(2)"
      ],
      "execution_count": 48,
      "outputs": [
        {
          "output_type": "execute_result",
          "data": {
            "text/plain": [
              "<torch._C.Generator at 0x7f08ebf288d0>"
            ]
          },
          "metadata": {
            "tags": []
          },
          "execution_count": 48
        }
      ]
    },
    {
      "cell_type": "code",
      "metadata": {
        "id": "bL64bMTkw2GP"
      },
      "source": [
        "X = torch.Tensor([[0,0], [0,1], [1,0], [1,1]])\n",
        "Y = torch.Tensor([0, 1, 1, 0]).view(-1,1)"
      ],
      "execution_count": 49,
      "outputs": []
    },
    {
      "cell_type": "code",
      "metadata": {
        "id": "aC82kEAIw3Wf"
      },
      "source": [
        "class XOR(nn.Module):\n",
        "    def __init__(self, input_dim = 2, output_dim=1):\n",
        "        super(XOR, self).__init__()\n",
        "        self.lin1 = nn.Linear(input_dim, 11)\n",
        "        self.lin2 = nn.Linear(11, output_dim, bias=False)\n",
        "    \n",
        "    def forward(self, x):\n",
        "        x = self.lin1(x)\n",
        "        x = F.tanh(x)\n",
        "        x = self.lin2(x)\n",
        "        #x = F.tanh(x)\n",
        "        return x"
      ],
      "execution_count": 50,
      "outputs": []
    },
    {
      "cell_type": "code",
      "metadata": {
        "colab": {
          "base_uri": "https://localhost:8080/"
        },
        "id": "8gQIQExYw65K",
        "outputId": "c6c9eb95-fce2-450f-e54d-76854204d535"
      },
      "source": [
        "model = XOR()\n",
        "print(model)\n",
        "from torchsummary import summary\n",
        "summary(model, (2,2))"
      ],
      "execution_count": 51,
      "outputs": [
        {
          "output_type": "stream",
          "text": [
            "XOR(\n",
            "  (lin1): Linear(in_features=2, out_features=11, bias=True)\n",
            "  (lin2): Linear(in_features=11, out_features=1, bias=False)\n",
            ")\n",
            "----------------------------------------------------------------\n",
            "        Layer (type)               Output Shape         Param #\n",
            "================================================================\n",
            "            Linear-1                [-1, 2, 11]              33\n",
            "            Linear-2                 [-1, 2, 1]              11\n",
            "================================================================\n",
            "Total params: 44\n",
            "Trainable params: 44\n",
            "Non-trainable params: 0\n",
            "----------------------------------------------------------------\n",
            "Input size (MB): 0.00\n",
            "Forward/backward pass size (MB): 0.00\n",
            "Params size (MB): 0.00\n",
            "Estimated Total Size (MB): 0.00\n",
            "----------------------------------------------------------------\n"
          ],
          "name": "stdout"
        },
        {
          "output_type": "stream",
          "text": [
            "/usr/local/lib/python3.7/dist-packages/torch/nn/functional.py:1698: UserWarning: nn.functional.tanh is deprecated. Use torch.tanh instead.\n",
            "  warnings.warn(\"nn.functional.tanh is deprecated. Use torch.tanh instead.\")\n"
          ],
          "name": "stderr"
        }
      ]
    },
    {
      "cell_type": "code",
      "metadata": {
        "id": "yeotEq19x6XF"
      },
      "source": [
        "def weights_init(model):\n",
        "    for m in model.modules():\n",
        "        if isinstance(m, nn.Linear):\n",
        "            # initialize the weight tensor, here we use a normal distribution\n",
        "            m.weight.data.normal_(0, 1)\n",
        "\n",
        "weights_init(model)"
      ],
      "execution_count": 52,
      "outputs": []
    },
    {
      "cell_type": "code",
      "metadata": {
        "id": "WrD_sNzLx78e"
      },
      "source": [
        "loss_func = nn.L1Loss()"
      ],
      "execution_count": 53,
      "outputs": []
    },
    {
      "cell_type": "code",
      "metadata": {
        "id": "-zvbrMd2x_lA"
      },
      "source": [
        "optimizer = optim.SGD(model.parameters(), lr=0.02, momentum=0.9)\n"
      ],
      "execution_count": 54,
      "outputs": []
    },
    {
      "cell_type": "code",
      "metadata": {
        "colab": {
          "base_uri": "https://localhost:8080/"
        },
        "id": "q7tWa3D7yA5X",
        "outputId": "043baa52-688c-462f-ec00-ee2ae66ad9c2"
      },
      "source": [
        "epochs = 2001\n",
        "steps = X.size(0)\n",
        "for i in range(epochs):\n",
        "    for j in range(steps):\n",
        "        data_point = np.random.randint(X.size(0))\n",
        "        x_var = Variable(X[data_point], requires_grad=False)\n",
        "        y_var = Variable(Y[data_point], requires_grad=False)\n",
        "        \n",
        "        optimizer.zero_grad()\n",
        "        y_hat = model(x_var)\n",
        "        loss = loss_func.forward(y_hat, y_var)\n",
        "        loss.backward()\n",
        "        optimizer.step()\n",
        "        \n",
        "    if i % 50 == 0:\n",
        "        print( \"Epoch: {0}, Loss: {1}, \".format(i, loss.data.numpy()))"
      ],
      "execution_count": 55,
      "outputs": [
        {
          "output_type": "stream",
          "text": [
            "Epoch: 0, Loss: 1.4321064949035645, \n",
            "Epoch: 50, Loss: 0.164625883102417, \n"
          ],
          "name": "stdout"
        },
        {
          "output_type": "stream",
          "text": [
            "/usr/local/lib/python3.7/dist-packages/torch/nn/functional.py:1698: UserWarning: nn.functional.tanh is deprecated. Use torch.tanh instead.\n",
            "  warnings.warn(\"nn.functional.tanh is deprecated. Use torch.tanh instead.\")\n"
          ],
          "name": "stderr"
        },
        {
          "output_type": "stream",
          "text": [
            "Epoch: 100, Loss: 0.022466272115707397, \n",
            "Epoch: 150, Loss: 0.09768010675907135, \n",
            "Epoch: 200, Loss: 0.3389592170715332, \n",
            "Epoch: 250, Loss: 0.13596674799919128, \n",
            "Epoch: 300, Loss: 0.04222750663757324, \n",
            "Epoch: 350, Loss: 0.11024382710456848, \n",
            "Epoch: 400, Loss: 0.08448135852813721, \n",
            "Epoch: 450, Loss: 0.738723635673523, \n",
            "Epoch: 500, Loss: 0.3827207088470459, \n",
            "Epoch: 550, Loss: 0.1607731580734253, \n",
            "Epoch: 600, Loss: 0.14284288883209229, \n",
            "Epoch: 650, Loss: 0.019942164421081543, \n",
            "Epoch: 700, Loss: 0.19889700412750244, \n",
            "Epoch: 750, Loss: 0.004075765609741211, \n",
            "Epoch: 800, Loss: 0.26665663719177246, \n",
            "Epoch: 850, Loss: 0.20928335189819336, \n",
            "Epoch: 900, Loss: 0.07772284746170044, \n",
            "Epoch: 950, Loss: 0.47012844681739807, \n",
            "Epoch: 1000, Loss: 0.515119194984436, \n",
            "Epoch: 1050, Loss: 0.08984845876693726, \n",
            "Epoch: 1100, Loss: 0.05230307579040527, \n",
            "Epoch: 1150, Loss: 0.055228471755981445, \n",
            "Epoch: 1200, Loss: 0.1604762077331543, \n",
            "Epoch: 1250, Loss: 0.0035126209259033203, \n",
            "Epoch: 1300, Loss: 0.38942432403564453, \n",
            "Epoch: 1350, Loss: 0.006320953369140625, \n",
            "Epoch: 1400, Loss: 0.7743641138076782, \n",
            "Epoch: 1450, Loss: 0.3502671420574188, \n",
            "Epoch: 1500, Loss: 0.1663287878036499, \n",
            "Epoch: 1550, Loss: 0.2773085832595825, \n",
            "Epoch: 1600, Loss: 0.2822910249233246, \n",
            "Epoch: 1650, Loss: 0.2618720531463623, \n",
            "Epoch: 1700, Loss: 0.06692582368850708, \n",
            "Epoch: 1750, Loss: 0.2831326723098755, \n",
            "Epoch: 1800, Loss: 0.16355252265930176, \n",
            "Epoch: 1850, Loss: 0.32379209995269775, \n",
            "Epoch: 1900, Loss: 0.2843194603919983, \n",
            "Epoch: 1950, Loss: 0.25644612312316895, \n",
            "Epoch: 2000, Loss: 0.023275375366210938, \n"
          ],
          "name": "stdout"
        }
      ]
    },
    {
      "cell_type": "code",
      "metadata": {
        "id": "QV0dIdveyCRi"
      },
      "source": [
        ""
      ],
      "execution_count": 55,
      "outputs": []
    }
  ]
}