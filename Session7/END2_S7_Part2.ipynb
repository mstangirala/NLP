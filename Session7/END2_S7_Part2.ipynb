{
  "nbformat": 4,
  "nbformat_minor": 0,
  "metadata": {
    "colab": {
      "name": "END2_S7_Part2.ipynb",
      "provenance": []
    },
    "kernelspec": {
      "name": "python3",
      "display_name": "Python 3"
    },
    "accelerator": "GPU"
  },
  "cells": [
    {
      "cell_type": "code",
      "metadata": {
        "id": "H5hNnlFI5IIa"
      },
      "source": [
        "import numpy as np\n",
        "import pandas as pd \n",
        "import torch\n",
        "import torchtext\n",
        "from torchtext.data import Field\n",
        "import time \n",
        "import torch.nn as nn\n",
        "import torch\n",
        "import torch.nn as nn\n",
        "import torch.optim as optim\n",
        "import torch.nn.functional as F\n",
        "\n",
        "from torchtext.datasets import Multi30k\n",
        "from torchtext.data import Field, BucketIterator\n",
        "\n",
        "import spacy\n",
        "import numpy as np\n",
        "\n",
        "import random\n",
        "import math\n",
        "import time"
      ],
      "execution_count": null,
      "outputs": []
    },
    {
      "cell_type": "code",
      "metadata": {
        "id": "0aRVNJYj8Fkh"
      },
      "source": [
        "df = pd.read_json('train.json')"
      ],
      "execution_count": null,
      "outputs": []
    },
    {
      "cell_type": "code",
      "metadata": {
        "colab": {
          "base_uri": "https://localhost:8080/",
          "height": 239
        },
        "id": "5BQtzi7A8GR0",
        "outputId": "04d8121b-b94e-4bee-9d14-09a260831a98"
      },
      "source": [
        "import json\n",
        "import csv\n",
        "\n",
        "with open('train.json') as json_file:\n",
        "  data = json.load(json_file)\n",
        "\n",
        "print(data)\n",
        "\n",
        "'''\n",
        "chat_data = data['viewed_doc_titles']\n",
        "data_file = open('data_file.csv','w')\n",
        "csv_writer = csv.writer(data_file)\n",
        "\n",
        "count = 0\n",
        "  \n",
        "for emp in data_chat: \n",
        "    if count == 0: \n",
        "  \n",
        "        # Writing headers of CSV file \n",
        "        header = emp.keys() \n",
        "        csv_writer.writerow(header) \n",
        "        count += 1\n",
        "  \n",
        "    # Writing data of CSV file \n",
        "    csv_writer.writerow(emp.values()) \n",
        "  \n",
        "data_file.close() \n",
        "\n",
        "'''"
      ],
      "execution_count": null,
      "outputs": [
        {
          "output_type": "stream",
          "text": [
            "IOPub data rate exceeded.\n",
            "The notebook server will temporarily stop sending output\n",
            "to the client in order to avoid crashing it.\n",
            "To change this limit, set the config variable\n",
            "`--NotebookApp.iopub_data_rate_limit`.\n",
            "\n",
            "Current values:\n",
            "NotebookApp.iopub_data_rate_limit=1000000.0 (bytes/sec)\n",
            "NotebookApp.rate_limit_window=3.0 (secs)\n",
            "\n"
          ],
          "name": "stderr"
        },
        {
          "output_type": "execute_result",
          "data": {
            "application/vnd.google.colaboratory.intrinsic+json": {
              "type": "string"
            },
            "text/plain": [
              "\"\\nchat_data = data['viewed_doc_titles']\\ndata_file = open('data_file.csv','w')\\ncsv_writer = csv.writer(data_file)\\n\\ncount = 0\\n  \\nfor emp in data_chat: \\n    if count == 0: \\n  \\n        # Writing headers of CSV file \\n        header = emp.keys() \\n        csv_writer.writerow(header) \\n        count += 1\\n  \\n    # Writing data of CSV file \\n    csv_writer.writerow(emp.values()) \\n  \\ndata_file.close() \\n\\n\""
            ]
          },
          "metadata": {
            "tags": []
          },
          "execution_count": 31
        }
      ]
    },
    {
      "cell_type": "code",
      "metadata": {
        "colab": {
          "base_uri": "https://localhost:8080/",
          "height": 289
        },
        "id": "mGomrm6E8I9M",
        "outputId": "21d5ca3c-944a-48ef-cfc3-029d98ff5595"
      },
      "source": [
        "df = pd.read_json('train.json')\n",
        "df.columns\n",
        "df.head(5)"
      ],
      "execution_count": null,
      "outputs": [
        {
          "output_type": "execute_result",
          "data": {
            "text/html": [
              "<div>\n",
              "<style scoped>\n",
              "    .dataframe tbody tr th:only-of-type {\n",
              "        vertical-align: middle;\n",
              "    }\n",
              "\n",
              "    .dataframe tbody tr th {\n",
              "        vertical-align: top;\n",
              "    }\n",
              "\n",
              "    .dataframe thead th {\n",
              "        text-align: right;\n",
              "    }\n",
              "</style>\n",
              "<table border=\"1\" class=\"dataframe\">\n",
              "  <thead>\n",
              "    <tr style=\"text-align: right;\">\n",
              "      <th></th>\n",
              "      <th>viewed_doc_titles</th>\n",
              "      <th>used_queries</th>\n",
              "      <th>annotations</th>\n",
              "      <th>nq_answer</th>\n",
              "      <th>id</th>\n",
              "      <th>nq_doc_title</th>\n",
              "      <th>question</th>\n",
              "    </tr>\n",
              "  </thead>\n",
              "  <tbody>\n",
              "    <tr>\n",
              "      <th>0</th>\n",
              "      <td>[The Simpsons]</td>\n",
              "      <td>[{'query': 'When did the simpsons first air on...</td>\n",
              "      <td>[{'type': 'multipleQAs', 'qaPairs': [{'questio...</td>\n",
              "      <td>[December 17 , 1989]</td>\n",
              "      <td>-4469503464110108160</td>\n",
              "      <td>The Simpsons</td>\n",
              "      <td>When did the simpsons first air on television?</td>\n",
              "    </tr>\n",
              "    <tr>\n",
              "      <th>1</th>\n",
              "      <td>[John Adams (miniseries)]</td>\n",
              "      <td>[{'query': 'John adams tv', 'results': [{'titl...</td>\n",
              "      <td>[{'type': 'singleAnswer', 'answer': ['David Mo...</td>\n",
              "      <td>[David Morse]</td>\n",
              "      <td>4790842463458965504</td>\n",
              "      <td>John Adams (miniseries)</td>\n",
              "      <td>Who played george washington in the john adams...</td>\n",
              "    </tr>\n",
              "    <tr>\n",
              "      <th>2</th>\n",
              "      <td>[Marriage age in the United States]</td>\n",
              "      <td>[{'query': 'legal age of marriage in usa', 're...</td>\n",
              "      <td>[{'type': 'multipleQAs', 'qaPairs': [{'questio...</td>\n",
              "      <td>[18, Nebraska ( 19 ), Mississippi ( 21 )]</td>\n",
              "      <td>-6631915997977101312</td>\n",
              "      <td>Age of marriage in the United States</td>\n",
              "      <td>What is the legal age of marriage in usa?</td>\n",
              "    </tr>\n",
              "    <tr>\n",
              "      <th>3</th>\n",
              "      <td>[Barefoot in the Park, Barefoot in the Park (f...</td>\n",
              "      <td>[{'query': 'Who starred in barefoot in the par...</td>\n",
              "      <td>[{'type': 'multipleQAs', 'qaPairs': [{'questio...</td>\n",
              "      <td>[Robert Redford, Elizabeth Ashley]</td>\n",
              "      <td>-3098213414945179648</td>\n",
              "      <td>Barefoot in the Park</td>\n",
              "      <td>Who starred in barefoot in the park on broadway?</td>\n",
              "    </tr>\n",
              "    <tr>\n",
              "      <th>4</th>\n",
              "      <td>[Timeline of the Manhattan Project, Manhattan ...</td>\n",
              "      <td>[{'query': 'When did the manhattan project beg...</td>\n",
              "      <td>[{'type': 'multipleQAs', 'qaPairs': [{'questio...</td>\n",
              "      <td>[From 1942 to 1946]</td>\n",
              "      <td>-927805218867163520</td>\n",
              "      <td>Timeline of the Manhattan Project</td>\n",
              "      <td>When did the manhattan project began and end?</td>\n",
              "    </tr>\n",
              "  </tbody>\n",
              "</table>\n",
              "</div>"
            ],
            "text/plain": [
              "                                   viewed_doc_titles  ...                                           question\n",
              "0                                     [The Simpsons]  ...     When did the simpsons first air on television?\n",
              "1                          [John Adams (miniseries)]  ...  Who played george washington in the john adams...\n",
              "2                [Marriage age in the United States]  ...          What is the legal age of marriage in usa?\n",
              "3  [Barefoot in the Park, Barefoot in the Park (f...  ...   Who starred in barefoot in the park on broadway?\n",
              "4  [Timeline of the Manhattan Project, Manhattan ...  ...      When did the manhattan project began and end?\n",
              "\n",
              "[5 rows x 7 columns]"
            ]
          },
          "metadata": {
            "tags": []
          },
          "execution_count": 32
        }
      ]
    },
    {
      "cell_type": "code",
      "metadata": {
        "colab": {
          "base_uri": "https://localhost:8080/"
        },
        "id": "x8ujxMfaCBio",
        "outputId": "387d02b0-1de2-48ab-fd0d-a1b96da38d4a"
      },
      "source": [
        "df.columns"
      ],
      "execution_count": null,
      "outputs": [
        {
          "output_type": "execute_result",
          "data": {
            "text/plain": [
              "Index(['viewed_doc_titles', 'used_queries', 'annotations', 'nq_answer', 'id',\n",
              "       'nq_doc_title', 'question'],\n",
              "      dtype='object')"
            ]
          },
          "metadata": {
            "tags": []
          },
          "execution_count": 33
        }
      ]
    },
    {
      "cell_type": "code",
      "metadata": {
        "id": "Wr_4_NhG8O2_"
      },
      "source": [
        "data = df[['question','nq_answer']]\n",
        "data.to_csv('train_data.csv',index=False)"
      ],
      "execution_count": null,
      "outputs": []
    },
    {
      "cell_type": "code",
      "metadata": {
        "colab": {
          "base_uri": "https://localhost:8080/",
          "height": 204
        },
        "id": "JbpTnbUO8ScE",
        "outputId": "30dd9550-d3b0-41bc-f8bf-6d31cc075d00"
      },
      "source": [
        "df1 = pd.read_csv('train_data.csv')\n",
        "df1.head(5)"
      ],
      "execution_count": null,
      "outputs": [
        {
          "output_type": "execute_result",
          "data": {
            "text/html": [
              "<div>\n",
              "<style scoped>\n",
              "    .dataframe tbody tr th:only-of-type {\n",
              "        vertical-align: middle;\n",
              "    }\n",
              "\n",
              "    .dataframe tbody tr th {\n",
              "        vertical-align: top;\n",
              "    }\n",
              "\n",
              "    .dataframe thead th {\n",
              "        text-align: right;\n",
              "    }\n",
              "</style>\n",
              "<table border=\"1\" class=\"dataframe\">\n",
              "  <thead>\n",
              "    <tr style=\"text-align: right;\">\n",
              "      <th></th>\n",
              "      <th>question</th>\n",
              "      <th>nq_answer</th>\n",
              "    </tr>\n",
              "  </thead>\n",
              "  <tbody>\n",
              "    <tr>\n",
              "      <th>0</th>\n",
              "      <td>When did the simpsons first air on television?</td>\n",
              "      <td>['December 17 , 1989']</td>\n",
              "    </tr>\n",
              "    <tr>\n",
              "      <th>1</th>\n",
              "      <td>Who played george washington in the john adams...</td>\n",
              "      <td>['David Morse']</td>\n",
              "    </tr>\n",
              "    <tr>\n",
              "      <th>2</th>\n",
              "      <td>What is the legal age of marriage in usa?</td>\n",
              "      <td>['18', 'Nebraska ( 19 )', 'Mississippi ( 21 )']</td>\n",
              "    </tr>\n",
              "    <tr>\n",
              "      <th>3</th>\n",
              "      <td>Who starred in barefoot in the park on broadway?</td>\n",
              "      <td>['Robert Redford', 'Elizabeth Ashley']</td>\n",
              "    </tr>\n",
              "    <tr>\n",
              "      <th>4</th>\n",
              "      <td>When did the manhattan project began and end?</td>\n",
              "      <td>['From 1942 to 1946']</td>\n",
              "    </tr>\n",
              "  </tbody>\n",
              "</table>\n",
              "</div>"
            ],
            "text/plain": [
              "                                            question                                        nq_answer\n",
              "0     When did the simpsons first air on television?                           ['December 17 , 1989']\n",
              "1  Who played george washington in the john adams...                                  ['David Morse']\n",
              "2          What is the legal age of marriage in usa?  ['18', 'Nebraska ( 19 )', 'Mississippi ( 21 )']\n",
              "3   Who starred in barefoot in the park on broadway?           ['Robert Redford', 'Elizabeth Ashley']\n",
              "4      When did the manhattan project began and end?                            ['From 1942 to 1946']"
            ]
          },
          "metadata": {
            "tags": []
          },
          "execution_count": 35
        }
      ]
    },
    {
      "cell_type": "code",
      "metadata": {
        "colab": {
          "base_uri": "https://localhost:8080/",
          "height": 419
        },
        "id": "2W3Hisdj8Ut0",
        "outputId": "b0146195-8d52-4b0c-8ed8-0f2d69f33fae"
      },
      "source": [
        "data"
      ],
      "execution_count": null,
      "outputs": [
        {
          "output_type": "execute_result",
          "data": {
            "text/html": [
              "<div>\n",
              "<style scoped>\n",
              "    .dataframe tbody tr th:only-of-type {\n",
              "        vertical-align: middle;\n",
              "    }\n",
              "\n",
              "    .dataframe tbody tr th {\n",
              "        vertical-align: top;\n",
              "    }\n",
              "\n",
              "    .dataframe thead th {\n",
              "        text-align: right;\n",
              "    }\n",
              "</style>\n",
              "<table border=\"1\" class=\"dataframe\">\n",
              "  <thead>\n",
              "    <tr style=\"text-align: right;\">\n",
              "      <th></th>\n",
              "      <th>question</th>\n",
              "      <th>nq_answer</th>\n",
              "    </tr>\n",
              "  </thead>\n",
              "  <tbody>\n",
              "    <tr>\n",
              "      <th>0</th>\n",
              "      <td>When did the simpsons first air on television?</td>\n",
              "      <td>[December 17 , 1989]</td>\n",
              "    </tr>\n",
              "    <tr>\n",
              "      <th>1</th>\n",
              "      <td>Who played george washington in the john adams...</td>\n",
              "      <td>[David Morse]</td>\n",
              "    </tr>\n",
              "    <tr>\n",
              "      <th>2</th>\n",
              "      <td>What is the legal age of marriage in usa?</td>\n",
              "      <td>[18, Nebraska ( 19 ), Mississippi ( 21 )]</td>\n",
              "    </tr>\n",
              "    <tr>\n",
              "      <th>3</th>\n",
              "      <td>Who starred in barefoot in the park on broadway?</td>\n",
              "      <td>[Robert Redford, Elizabeth Ashley]</td>\n",
              "    </tr>\n",
              "    <tr>\n",
              "      <th>4</th>\n",
              "      <td>When did the manhattan project began and end?</td>\n",
              "      <td>[From 1942 to 1946]</td>\n",
              "    </tr>\n",
              "    <tr>\n",
              "      <th>...</th>\n",
              "      <td>...</td>\n",
              "      <td>...</td>\n",
              "    </tr>\n",
              "    <tr>\n",
              "      <th>10031</th>\n",
              "      <td>When do the summer holidays start for schools?</td>\n",
              "      <td>[between late May and mid-June]</td>\n",
              "    </tr>\n",
              "    <tr>\n",
              "      <th>10032</th>\n",
              "      <td>Who is the band in the movie 10 things i hate ...</td>\n",
              "      <td>[Save Ferris]</td>\n",
              "    </tr>\n",
              "    <tr>\n",
              "      <th>10033</th>\n",
              "      <td>Who was the last person in the uk to be executed?</td>\n",
              "      <td>[1964]</td>\n",
              "    </tr>\n",
              "    <tr>\n",
              "      <th>10034</th>\n",
              "      <td>Who does wonder woman end up with in the comics?</td>\n",
              "      <td>[Steve Trevor]</td>\n",
              "    </tr>\n",
              "    <tr>\n",
              "      <th>10035</th>\n",
              "      <td>When were the first pair of jordans released?</td>\n",
              "      <td>[late 1984]</td>\n",
              "    </tr>\n",
              "  </tbody>\n",
              "</table>\n",
              "<p>10036 rows × 2 columns</p>\n",
              "</div>"
            ],
            "text/plain": [
              "                                                question                                  nq_answer\n",
              "0         When did the simpsons first air on television?                       [December 17 , 1989]\n",
              "1      Who played george washington in the john adams...                              [David Morse]\n",
              "2              What is the legal age of marriage in usa?  [18, Nebraska ( 19 ), Mississippi ( 21 )]\n",
              "3       Who starred in barefoot in the park on broadway?         [Robert Redford, Elizabeth Ashley]\n",
              "4          When did the manhattan project began and end?                        [From 1942 to 1946]\n",
              "...                                                  ...                                        ...\n",
              "10031     When do the summer holidays start for schools?            [between late May and mid-June]\n",
              "10032  Who is the band in the movie 10 things i hate ...                              [Save Ferris]\n",
              "10033  Who was the last person in the uk to be executed?                                     [1964]\n",
              "10034   Who does wonder woman end up with in the comics?                             [Steve Trevor]\n",
              "10035      When were the first pair of jordans released?                                [late 1984]\n",
              "\n",
              "[10036 rows x 2 columns]"
            ]
          },
          "metadata": {
            "tags": []
          },
          "execution_count": 36
        }
      ]
    },
    {
      "cell_type": "code",
      "metadata": {
        "id": "3En5335W8YA0"
      },
      "source": [
        "TEXT = torchtext.data.Field(\n",
        "    tokenize='spacy',\n",
        "    lower=True,\n",
        "    init_token='<sos>', \n",
        "    eos_token='<eos>'\n",
        ")\n",
        "\n",
        "fields = [('question', TEXT), ('nq_answer', TEXT)]"
      ],
      "execution_count": null,
      "outputs": []
    },
    {
      "cell_type": "code",
      "metadata": {
        "colab": {
          "base_uri": "https://localhost:8080/"
        },
        "id": "wC5EnJE48anw",
        "outputId": "b8d80483-5bc0-4a82-8a01-a5c09dd13e5c"
      },
      "source": [
        "start = time.time()\n",
        "dataset = torchtext.data.TabularDataset(\n",
        "    path='train_data.csv',\n",
        "    format='CSV',\n",
        "    fields=fields,\n",
        "    skip_header=True\n",
        ")\n",
        "end = time.time()\n",
        "print(f'Duration: {end - start}')"
      ],
      "execution_count": null,
      "outputs": [
        {
          "output_type": "stream",
          "text": [
            "Duration: 1.4990887641906738\n"
          ],
          "name": "stdout"
        }
      ]
    },
    {
      "cell_type": "code",
      "metadata": {
        "colab": {
          "base_uri": "https://localhost:8080/"
        },
        "id": "kRilt42Z8ePV",
        "outputId": "afbe90ce-0876-48db-c1ad-fa8c6c99565e"
      },
      "source": [
        "train_data, valid_data = dataset.split(split_ratio=[0.85, 0.15])\n",
        "print(len(train_data), len(valid_data))"
      ],
      "execution_count": null,
      "outputs": [
        {
          "output_type": "stream",
          "text": [
            "8531 1505\n"
          ],
          "name": "stdout"
        }
      ]
    },
    {
      "cell_type": "code",
      "metadata": {
        "colab": {
          "base_uri": "https://localhost:8080/"
        },
        "id": "XhAGXRQi8hhn",
        "outputId": "1a04faaa-0775-44fd-aae1-4a6330069a68"
      },
      "source": [
        "vars(train_data.examples[0])"
      ],
      "execution_count": null,
      "outputs": [
        {
          "output_type": "execute_result",
          "data": {
            "text/plain": [
              "{'nq_answer': ['[', \"'\", 'isildur', \"'\", ']'],\n",
              " 'question': ['who', 'dies', 'first', 'in', 'lord', 'of', 'the', 'rings', '?']}"
            ]
          },
          "metadata": {
            "tags": []
          },
          "execution_count": 40
        }
      ]
    },
    {
      "cell_type": "code",
      "metadata": {
        "colab": {
          "base_uri": "https://localhost:8080/"
        },
        "id": "Lf1ORhmk8kGP",
        "outputId": "6f97bed1-ad85-47c5-90bb-03ea5914ff95"
      },
      "source": [
        "MAX_VOCAB_SIZE = 10_000\n",
        "\n",
        "TEXT.build_vocab(train_data, max_size=MAX_VOCAB_SIZE)\n",
        "\n",
        "print(f'Size of vocab: {len(TEXT.vocab)}')"
      ],
      "execution_count": null,
      "outputs": [
        {
          "output_type": "stream",
          "text": [
            "Size of vocab: 10004\n"
          ],
          "name": "stdout"
        }
      ]
    },
    {
      "cell_type": "code",
      "metadata": {
        "colab": {
          "base_uri": "https://localhost:8080/"
        },
        "id": "GPuEBJDx8mYU",
        "outputId": "24c306ca-6e7f-4072-bb34-58b07b078198"
      },
      "source": [
        "device = torch.device('cuda' if torch.cuda.is_available() else 'cpu')\n",
        "device"
      ],
      "execution_count": null,
      "outputs": [
        {
          "output_type": "execute_result",
          "data": {
            "text/plain": [
              "device(type='cuda')"
            ]
          },
          "metadata": {
            "tags": []
          },
          "execution_count": 42
        }
      ]
    },
    {
      "cell_type": "code",
      "metadata": {
        "id": "cu9iM7Kz8r6D"
      },
      "source": [
        "BATCH_SIZE = 128\n",
        "\n",
        "train_iterator, valid_iterator = torchtext.data.BucketIterator.splits(\n",
        "    (train_data, valid_data),\n",
        "    batch_size = BATCH_SIZE,\n",
        "    sort_key=lambda x: len(x.question),\n",
        "    device = device\n",
        ")"
      ],
      "execution_count": null,
      "outputs": []
    },
    {
      "cell_type": "code",
      "metadata": {
        "id": "ty2dyHfu8zHb"
      },
      "source": [
        "class Encoder(nn.Module):\n",
        "    def __init__(self, input_dim, emb_dim, hid_dim, dropout):\n",
        "        super().__init__()\n",
        "\n",
        "        self.hid_dim = hid_dim\n",
        "        \n",
        "        self.embedding = nn.Embedding(input_dim, emb_dim) #no dropout as only one layer!\n",
        "        \n",
        "        self.rnn = nn.GRU(emb_dim, hid_dim)\n",
        "        \n",
        "        self.dropout = nn.Dropout(dropout)\n",
        "        \n",
        "    def forward(self, src):\n",
        "        \n",
        "        #src = [src len, batch size]\n",
        "        \n",
        "        embedded = self.dropout(self.embedding(src))\n",
        "        \n",
        "        #embedded = [src len, batch size, emb dim]\n",
        "        \n",
        "        outputs, hidden = self.rnn(embedded) #no cell state!\n",
        "        \n",
        "        #outputs = [src len, batch size, hid dim * n directions]\n",
        "        #hidden = [n layers * n directions, batch size, hid dim]\n",
        "        \n",
        "        #outputs are always from the top hidden layer\n",
        "        \n",
        "        return hidden"
      ],
      "execution_count": null,
      "outputs": []
    },
    {
      "cell_type": "code",
      "metadata": {
        "id": "tQMcnCY382Bh"
      },
      "source": [
        "class Decoder(nn.Module):\n",
        "    def __init__(self, output_dim, emb_dim, hid_dim, dropout):\n",
        "        super().__init__()\n",
        "\n",
        "        self.hid_dim = hid_dim\n",
        "        self.output_dim = output_dim\n",
        "        \n",
        "        self.embedding = nn.Embedding(output_dim, emb_dim)\n",
        "        \n",
        "        self.rnn = nn.GRU(emb_dim + hid_dim, hid_dim)\n",
        "        \n",
        "        self.fc_out = nn.Linear(emb_dim + hid_dim * 2, output_dim)\n",
        "        \n",
        "        self.dropout = nn.Dropout(dropout)\n",
        "        \n",
        "    def forward(self, input, hidden, context):\n",
        "        \n",
        "        #input = [batch size]\n",
        "        #hidden = [n layers * n directions, batch size, hid dim]\n",
        "        #context = [n layers * n directions, batch size, hid dim]\n",
        "        \n",
        "        #n layers and n directions in the decoder will both always be 1, therefore:\n",
        "        #hidden = [1, batch size, hid dim]\n",
        "        #context = [1, batch size, hid dim]\n",
        "        \n",
        "        input = input.unsqueeze(0)\n",
        "        \n",
        "        #input = [1, batch size]\n",
        "        \n",
        "        embedded = self.dropout(self.embedding(input))\n",
        "        \n",
        "        #embedded = [1, batch size, emb dim]\n",
        "                \n",
        "        emb_con = torch.cat((embedded, context), dim = 2)\n",
        "            \n",
        "        #emb_con = [1, batch size, emb dim + hid dim]\n",
        "            \n",
        "        output, hidden = self.rnn(emb_con, hidden)\n",
        "        \n",
        "        #output = [seq len, batch size, hid dim * n directions]\n",
        "        #hidden = [n layers * n directions, batch size, hid dim]\n",
        "        \n",
        "        #seq len, n layers and n directions will always be 1 in the decoder, therefore:\n",
        "        #output = [1, batch size, hid dim]\n",
        "        #hidden = [1, batch size, hid dim]\n",
        "        \n",
        "        output = torch.cat((embedded.squeeze(0), hidden.squeeze(0), context.squeeze(0)), \n",
        "                           dim = 1)\n",
        "        \n",
        "        #output = [batch size, emb dim + hid dim * 2]\n",
        "        \n",
        "        prediction = self.fc_out(output)\n",
        "        \n",
        "        #prediction = [batch size, output dim]\n",
        "        \n",
        "        return prediction, hidden"
      ],
      "execution_count": null,
      "outputs": []
    },
    {
      "cell_type": "code",
      "metadata": {
        "id": "G2pyghqU85Xw"
      },
      "source": [
        "class Seq2Seq(nn.Module):\n",
        "    def __init__(self, encoder, decoder, device):\n",
        "        super().__init__()\n",
        "        \n",
        "        self.encoder = encoder\n",
        "        self.decoder = decoder\n",
        "        self.device = device\n",
        "        \n",
        "        assert encoder.hid_dim == decoder.hid_dim, \\\n",
        "            \"Hidden dimensions of encoder and decoder must be equal!\"\n",
        "        \n",
        "    def forward(self, src, trg, teacher_forcing_ratio = 0.5):\n",
        "        \n",
        "        #src = [src len, batch size]\n",
        "        #trg = [trg len, batch size]\n",
        "        #teacher_forcing_ratio is probability to use teacher forcing\n",
        "        #e.g. if teacher_forcing_ratio is 0.75 we use ground-truth inputs 75% of the time\n",
        "        \n",
        "        batch_size = trg.shape[1]\n",
        "        trg_len = trg.shape[0]\n",
        "        trg_vocab_size = self.decoder.output_dim\n",
        "        \n",
        "        #tensor to store decoder outputs\n",
        "        outputs = torch.zeros(trg_len, batch_size, trg_vocab_size).to(self.device)\n",
        "        \n",
        "        #last hidden state of the encoder is the context\n",
        "        context = self.encoder(src)\n",
        "        \n",
        "        #context also used as the initial hidden state of the decoder\n",
        "        hidden = context\n",
        "        \n",
        "        #first input to the decoder is the <sos> tokens\n",
        "        input = trg[0,:]\n",
        "        \n",
        "        for t in range(1, trg_len):\n",
        "            \n",
        "            #insert input token embedding, previous hidden state and the context state\n",
        "            #receive output tensor (predictions) and new hidden state\n",
        "            output, hidden = self.decoder(input, hidden, context)\n",
        "            \n",
        "            #place predictions in a tensor holding predictions for each token\n",
        "            outputs[t] = output\n",
        "            \n",
        "            #decide if we are going to use teacher forcing or not\n",
        "            teacher_force = random.random() < teacher_forcing_ratio\n",
        "            \n",
        "            #get the highest predicted token from our predictions\n",
        "            top1 = output.argmax(1) \n",
        "            \n",
        "            #if teacher forcing, use actual next token as next input\n",
        "            #if not, use predicted token\n",
        "            input = trg[t] if teacher_force else top1\n",
        "\n",
        "        return outputs"
      ],
      "execution_count": null,
      "outputs": []
    },
    {
      "cell_type": "code",
      "metadata": {
        "id": "HPXBZ8F79NHR"
      },
      "source": [
        "INPUT_DIM = len(TEXT.vocab)\n",
        "OUTPUT_DIM = len(TEXT.vocab)\n",
        "ENC_EMB_DIM = 128\n",
        "DEC_EMB_DIM = 128\n",
        "HID_DIM = 256\n",
        "ENC_DROPOUT = 0.5\n",
        "DEC_DROPOUT = 0.5\n",
        "\n",
        "enc = Encoder(INPUT_DIM, ENC_EMB_DIM, HID_DIM, ENC_DROPOUT)\n",
        "dec = Decoder(OUTPUT_DIM, DEC_EMB_DIM, HID_DIM, DEC_DROPOUT)\n",
        "\n",
        "device = torch.device('cuda' if torch.cuda.is_available() else 'cpu')\n",
        "\n",
        "model = Seq2Seq(enc, dec, device).to(device)"
      ],
      "execution_count": null,
      "outputs": []
    },
    {
      "cell_type": "code",
      "metadata": {
        "colab": {
          "base_uri": "https://localhost:8080/"
        },
        "id": "iXVN5R049QFd",
        "outputId": "a4578cea-4bbc-4eb3-a363-e979c3b1eb86"
      },
      "source": [
        "def init_weights(m):\n",
        "    for name, param in m.named_parameters():\n",
        "        nn.init.normal_(param.data, mean=0, std=0.01)\n",
        "        \n",
        "model.apply(init_weights)"
      ],
      "execution_count": null,
      "outputs": [
        {
          "output_type": "execute_result",
          "data": {
            "text/plain": [
              "Seq2Seq(\n",
              "  (encoder): Encoder(\n",
              "    (embedding): Embedding(10004, 128)\n",
              "    (rnn): GRU(128, 256)\n",
              "    (dropout): Dropout(p=0.5, inplace=False)\n",
              "  )\n",
              "  (decoder): Decoder(\n",
              "    (embedding): Embedding(10004, 128)\n",
              "    (rnn): GRU(384, 256)\n",
              "    (fc_out): Linear(in_features=640, out_features=10004, bias=True)\n",
              "    (dropout): Dropout(p=0.5, inplace=False)\n",
              "  )\n",
              ")"
            ]
          },
          "metadata": {
            "tags": []
          },
          "execution_count": 48
        }
      ]
    },
    {
      "cell_type": "code",
      "metadata": {
        "colab": {
          "base_uri": "https://localhost:8080/"
        },
        "id": "9rlQGSS99UD4",
        "outputId": "e50983bb-524d-4ed1-809b-6450cefdaaea"
      },
      "source": [
        "def count_parameters(model):\n",
        "    return sum(p.numel() for p in model.parameters() if p.requires_grad)\n",
        "\n",
        "print(f'The model has {count_parameters(model):,} trainable parameters')"
      ],
      "execution_count": null,
      "outputs": [
        {
          "output_type": "stream",
          "text": [
            "The model has 9,763,092 trainable parameters\n"
          ],
          "name": "stdout"
        }
      ]
    },
    {
      "cell_type": "code",
      "metadata": {
        "id": "D_Nz8pKX9XGg"
      },
      "source": [
        "optimizer = optim.Adam(model.parameters())"
      ],
      "execution_count": null,
      "outputs": []
    },
    {
      "cell_type": "code",
      "metadata": {
        "id": "vKermaa49Zz_"
      },
      "source": [
        "TRG_PAD_IDX = TEXT.vocab.stoi[TEXT.pad_token]\n",
        "\n",
        "criterion = nn.CrossEntropyLoss(ignore_index = TRG_PAD_IDX)"
      ],
      "execution_count": null,
      "outputs": []
    },
    {
      "cell_type": "code",
      "metadata": {
        "id": "75KCB4189dB8"
      },
      "source": [
        "def train(model, iterator, optimizer, criterion, clip):\n",
        "    \n",
        "    model.train()\n",
        "    \n",
        "    epoch_loss = 0\n",
        "    \n",
        "    for i, batch in enumerate(iterator):\n",
        "        \n",
        "        src = batch.question\n",
        "        trg = batch.nq_answer\n",
        "        \n",
        "        optimizer.zero_grad()\n",
        "        \n",
        "        output = model(src, trg)\n",
        "        \n",
        "        #trg = [trg len, batch size]\n",
        "        #output = [trg len, batch size, output dim]\n",
        "        \n",
        "        output_dim = output.shape[-1]\n",
        "        \n",
        "        output = output[1:].view(-1, output_dim)\n",
        "        trg = trg[1:].view(-1)\n",
        "        \n",
        "        #trg = [(trg len - 1) * batch size]\n",
        "        #output = [(trg len - 1) * batch size, output dim]\n",
        "        \n",
        "        loss = criterion(output, trg)\n",
        "        \n",
        "        loss.backward()\n",
        "        \n",
        "        torch.nn.utils.clip_grad_norm_(model.parameters(), clip)\n",
        "        \n",
        "        optimizer.step()\n",
        "        \n",
        "        epoch_loss += loss.item()\n",
        "        \n",
        "    return epoch_loss / len(iterator)"
      ],
      "execution_count": null,
      "outputs": []
    },
    {
      "cell_type": "code",
      "metadata": {
        "id": "izCQUkSn9fuy"
      },
      "source": [
        "def evaluate(model, iterator, criterion):\n",
        "    \n",
        "    model.eval()\n",
        "    \n",
        "    epoch_loss = 0\n",
        "    \n",
        "    with torch.no_grad():\n",
        "    \n",
        "        for i, batch in enumerate(iterator):\n",
        "\n",
        "            src = batch.question\n",
        "            trg = batch.nq_answer\n",
        "\n",
        "            output = model(src, trg, 0) #turn off teacher forcing\n",
        "\n",
        "            #trg = [trg len, batch size]\n",
        "            #output = [trg len, batch size, output dim]\n",
        "\n",
        "            output_dim = output.shape[-1]\n",
        "            \n",
        "            output = output[1:].view(-1, output_dim)\n",
        "            trg = trg[1:].view(-1)\n",
        "\n",
        "            #trg = [(trg len - 1) * batch size]\n",
        "            #output = [(trg len - 1) * batch size, output dim]\n",
        "\n",
        "            loss = criterion(output, trg)\n",
        "\n",
        "            epoch_loss += loss.item()\n",
        "        \n",
        "    return epoch_loss / len(iterator)"
      ],
      "execution_count": null,
      "outputs": []
    },
    {
      "cell_type": "code",
      "metadata": {
        "id": "F1ehn2ph9ip3"
      },
      "source": [
        "def epoch_time(start_time, end_time):\n",
        "    elapsed_time = end_time - start_time\n",
        "    elapsed_mins = int(elapsed_time / 60)\n",
        "    elapsed_secs = int(elapsed_time - (elapsed_mins * 60))\n",
        "    return elapsed_mins, elapsed_secs"
      ],
      "execution_count": null,
      "outputs": []
    },
    {
      "cell_type": "code",
      "metadata": {
        "colab": {
          "base_uri": "https://localhost:8080/"
        },
        "id": "pvFzfefE9lF7",
        "outputId": "710d24f2-9b99-4720-97e3-204566fdf704"
      },
      "source": [
        "N_EPOCHS = 10\n",
        "CLIP = 1\n",
        "\n",
        "best_valid_loss = float('inf')\n",
        "\n",
        "for epoch in range(N_EPOCHS):\n",
        "    \n",
        "    start_time = time.time()\n",
        "    \n",
        "    train_loss = train(model, train_iterator, optimizer, criterion, CLIP)\n",
        "    valid_loss = evaluate(model, valid_iterator, criterion)\n",
        "    \n",
        "    end_time = time.time()\n",
        "    \n",
        "    epoch_mins, epoch_secs = epoch_time(start_time, end_time)\n",
        "    \n",
        "    if valid_loss < best_valid_loss:\n",
        "        best_valid_loss = valid_loss\n",
        "        torch.save(model.state_dict(), 'tut2-model.pt')\n",
        "    \n",
        "    print(f'Epoch: {epoch+1:02} | Time: {epoch_mins}m {epoch_secs}s')\n",
        "    print(f'\\tTrain Loss: {train_loss:.3f} | Train PPL: {math.exp(train_loss):7.3f}')\n",
        "    print(f'\\t Val. Loss: {valid_loss:.3f} |  Val. PPL: {math.exp(valid_loss):7.3f}')"
      ],
      "execution_count": null,
      "outputs": [
        {
          "output_type": "stream",
          "text": [
            "Epoch: 01 | Time: 0m 16s\n",
            "\tTrain Loss: 4.787 | Train PPL: 119.999\n",
            "\t Val. Loss: 3.215 |  Val. PPL:  24.910\n",
            "Epoch: 02 | Time: 0m 15s\n",
            "\tTrain Loss: 3.253 | Train PPL:  25.864\n",
            "\t Val. Loss: 3.165 |  Val. PPL:  23.680\n",
            "Epoch: 03 | Time: 0m 16s\n",
            "\tTrain Loss: 3.064 | Train PPL:  21.415\n",
            "\t Val. Loss: 3.104 |  Val. PPL:  22.288\n",
            "Epoch: 04 | Time: 0m 16s\n",
            "\tTrain Loss: 3.008 | Train PPL:  20.250\n",
            "\t Val. Loss: 3.017 |  Val. PPL:  20.424\n",
            "Epoch: 05 | Time: 0m 15s\n",
            "\tTrain Loss: 2.917 | Train PPL:  18.481\n",
            "\t Val. Loss: 3.072 |  Val. PPL:  21.594\n",
            "Epoch: 06 | Time: 0m 16s\n",
            "\tTrain Loss: 2.864 | Train PPL:  17.528\n",
            "\t Val. Loss: 3.021 |  Val. PPL:  20.505\n",
            "Epoch: 07 | Time: 0m 16s\n",
            "\tTrain Loss: 2.786 | Train PPL:  16.220\n",
            "\t Val. Loss: 2.992 |  Val. PPL:  19.918\n",
            "Epoch: 08 | Time: 0m 16s\n",
            "\tTrain Loss: 2.698 | Train PPL:  14.847\n",
            "\t Val. Loss: 2.973 |  Val. PPL:  19.551\n",
            "Epoch: 09 | Time: 0m 16s\n",
            "\tTrain Loss: 2.581 | Train PPL:  13.215\n",
            "\t Val. Loss: 2.943 |  Val. PPL:  18.966\n",
            "Epoch: 10 | Time: 0m 15s\n",
            "\tTrain Loss: 2.477 | Train PPL:  11.906\n",
            "\t Val. Loss: 2.899 |  Val. PPL:  18.147\n"
          ],
          "name": "stdout"
        }
      ]
    }
  ]
}